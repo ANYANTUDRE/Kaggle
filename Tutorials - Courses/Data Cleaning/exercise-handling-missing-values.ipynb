{
 "cells": [
  {
   "cell_type": "markdown",
   "id": "8859686e",
   "metadata": {
    "papermill": {
     "duration": 0.005831,
     "end_time": "2023-07-31T23:47:17.708747",
     "exception": false,
     "start_time": "2023-07-31T23:47:17.702916",
     "status": "completed"
    },
    "tags": []
   },
   "source": [
    "**This notebook is an exercise in the [Data Cleaning](https://www.kaggle.com/learn/data-cleaning) course.  You can reference the tutorial at [this link](https://www.kaggle.com/alexisbcook/handling-missing-values).**\n",
    "\n",
    "---\n"
   ]
  },
  {
   "cell_type": "markdown",
   "id": "802c3337",
   "metadata": {
    "papermill": {
     "duration": 0.004933,
     "end_time": "2023-07-31T23:47:17.719037",
     "exception": false,
     "start_time": "2023-07-31T23:47:17.714104",
     "status": "completed"
    },
    "tags": []
   },
   "source": [
    "In this exercise, you'll apply what you learned in the **Handling missing values** tutorial.\n",
    "\n",
    "# Setup\n",
    "\n",
    "The questions below will give you feedback on your work. Run the following cell to set up the feedback system."
   ]
  },
  {
   "cell_type": "code",
   "execution_count": 1,
   "id": "64e2a9f1",
   "metadata": {
    "execution": {
     "iopub.execute_input": "2023-07-31T23:47:17.731513Z",
     "iopub.status.busy": "2023-07-31T23:47:17.730826Z",
     "iopub.status.idle": "2023-07-31T23:47:22.953638Z",
     "shell.execute_reply": "2023-07-31T23:47:22.952536Z"
    },
    "papermill": {
     "duration": 5.231697,
     "end_time": "2023-07-31T23:47:22.955905",
     "exception": false,
     "start_time": "2023-07-31T23:47:17.724208",
     "status": "completed"
    },
    "tags": []
   },
   "outputs": [
    {
     "name": "stderr",
     "output_type": "stream",
     "text": [
      "/opt/conda/lib/python3.10/site-packages/learntools/data_cleaning/ex1.py:6: DtypeWarning: Columns (22,32) have mixed types. Specify dtype option on import or set low_memory=False.\n",
      "  sf_permits = pd.read_csv(\"../input/building-permit-applications-data/Building_Permits.csv\")\n"
     ]
    },
    {
     "name": "stdout",
     "output_type": "stream",
     "text": [
      "Setup Complete\n"
     ]
    }
   ],
   "source": [
    "from learntools.core import binder\n",
    "binder.bind(globals())\n",
    "from learntools.data_cleaning.ex1 import *\n",
    "print(\"Setup Complete\")"
   ]
  },
  {
   "cell_type": "markdown",
   "id": "df31e308",
   "metadata": {
    "papermill": {
     "duration": 0.005696,
     "end_time": "2023-07-31T23:47:22.967873",
     "exception": false,
     "start_time": "2023-07-31T23:47:22.962177",
     "status": "completed"
    },
    "tags": []
   },
   "source": [
    "# 1) Take a first look at the data\n",
    "\n",
    "Run the next code cell to load in the libraries and dataset you'll use to complete the exercise."
   ]
  },
  {
   "cell_type": "code",
   "execution_count": 2,
   "id": "c4ee2414",
   "metadata": {
    "execution": {
     "iopub.execute_input": "2023-07-31T23:47:22.981620Z",
     "iopub.status.busy": "2023-07-31T23:47:22.980988Z",
     "iopub.status.idle": "2023-07-31T23:47:24.189909Z",
     "shell.execute_reply": "2023-07-31T23:47:24.188332Z"
    },
    "papermill": {
     "duration": 1.218,
     "end_time": "2023-07-31T23:47:24.192163",
     "exception": false,
     "start_time": "2023-07-31T23:47:22.974163",
     "status": "completed"
    },
    "tags": []
   },
   "outputs": [
    {
     "name": "stderr",
     "output_type": "stream",
     "text": [
      "/tmp/ipykernel_20/3534875831.py:6: DtypeWarning: Columns (22,32) have mixed types. Specify dtype option on import or set low_memory=False.\n",
      "  sf_permits = pd.read_csv(\"../input/building-permit-applications-data/Building_Permits.csv\")\n"
     ]
    }
   ],
   "source": [
    "# modules we'll use\n",
    "import pandas as pd\n",
    "import numpy as np\n",
    "\n",
    "# read in all our data\n",
    "sf_permits = pd.read_csv(\"../input/building-permit-applications-data/Building_Permits.csv\")\n",
    "\n",
    "# set seed for reproducibility\n",
    "np.random.seed(0) "
   ]
  },
  {
   "cell_type": "markdown",
   "id": "a1209569",
   "metadata": {
    "papermill": {
     "duration": 0.005345,
     "end_time": "2023-07-31T23:47:24.203224",
     "exception": false,
     "start_time": "2023-07-31T23:47:24.197879",
     "status": "completed"
    },
    "tags": []
   },
   "source": [
    "Use the code cell below to print the first five rows of the `sf_permits` DataFrame."
   ]
  },
  {
   "cell_type": "code",
   "execution_count": 3,
   "id": "b060f1bc",
   "metadata": {
    "execution": {
     "iopub.execute_input": "2023-07-31T23:47:24.215609Z",
     "iopub.status.busy": "2023-07-31T23:47:24.215298Z",
     "iopub.status.idle": "2023-07-31T23:47:24.231752Z",
     "shell.execute_reply": "2023-07-31T23:47:24.230763Z"
    },
    "papermill": {
     "duration": 0.025144,
     "end_time": "2023-07-31T23:47:24.233841",
     "exception": false,
     "start_time": "2023-07-31T23:47:24.208697",
     "status": "completed"
    },
    "tags": []
   },
   "outputs": [
    {
     "name": "stdout",
     "output_type": "stream",
     "text": [
      "  Permit Number  Permit Type            Permit Type Definition  \\\n",
      "0  201505065519            4                      sign - erect   \n",
      "1  201604195146            4                      sign - erect   \n",
      "2  201605278609            3  additions alterations or repairs   \n",
      "3  201611072166            8            otc alterations permit   \n",
      "4  201611283529            6                       demolitions   \n",
      "\n",
      "  Permit Creation Date Block  Lot  Street Number Street Number Suffix  \\\n",
      "0           05/06/2015  0326  023            140                  NaN   \n",
      "1           04/19/2016  0306  007            440                  NaN   \n",
      "2           05/27/2016  0595  203           1647                  NaN   \n",
      "3           11/07/2016  0156  011           1230                  NaN   \n",
      "4           11/28/2016  0342  001            950                  NaN   \n",
      "\n",
      "  Street Name Street Suffix  ...  Existing Construction Type  \\\n",
      "0       Ellis            St  ...                         3.0   \n",
      "1       Geary            St  ...                         3.0   \n",
      "2     Pacific            Av  ...                         1.0   \n",
      "3     Pacific            Av  ...                         5.0   \n",
      "4      Market            St  ...                         3.0   \n",
      "\n",
      "  Existing Construction Type Description Proposed Construction Type  \\\n",
      "0                          constr type 3                        NaN   \n",
      "1                          constr type 3                        NaN   \n",
      "2                          constr type 1                        1.0   \n",
      "3                         wood frame (5)                        5.0   \n",
      "4                          constr type 3                        NaN   \n",
      "\n",
      "  Proposed Construction Type Description Site Permit Supervisor District  \\\n",
      "0                                    NaN         NaN                 3.0   \n",
      "1                                    NaN         NaN                 3.0   \n",
      "2                          constr type 1         NaN                 3.0   \n",
      "3                         wood frame (5)         NaN                 3.0   \n",
      "4                                    NaN         NaN                 6.0   \n",
      "\n",
      "  Neighborhoods - Analysis Boundaries  Zipcode  \\\n",
      "0                          Tenderloin  94102.0   \n",
      "1                          Tenderloin  94102.0   \n",
      "2                        Russian Hill  94109.0   \n",
      "3                            Nob Hill  94109.0   \n",
      "4                          Tenderloin  94102.0   \n",
      "\n",
      "                                    Location      Record ID  \n",
      "0  (37.785719256680785, -122.40852313194863)  1380611233945  \n",
      "1   (37.78733980600732, -122.41063199757738)  1420164406718  \n",
      "2    (37.7946573324287, -122.42232562979227)  1424856504716  \n",
      "3   (37.79595867909168, -122.41557405519474)  1443574295566  \n",
      "4   (37.78315261897309, -122.40950883997789)   144548169992  \n",
      "\n",
      "[5 rows x 43 columns]\n"
     ]
    }
   ],
   "source": [
    "# TODO: Your code here!\n",
    "print(sf_permits.head())"
   ]
  },
  {
   "cell_type": "markdown",
   "id": "1f9b3771",
   "metadata": {
    "papermill": {
     "duration": 0.005239,
     "end_time": "2023-07-31T23:47:24.245902",
     "exception": false,
     "start_time": "2023-07-31T23:47:24.240663",
     "status": "completed"
    },
    "tags": []
   },
   "source": [
    "Does the dataset have any missing values?  Once you have an answer, run the code cell below to get credit for your work."
   ]
  },
  {
   "cell_type": "code",
   "execution_count": 4,
   "id": "e30dca29",
   "metadata": {
    "execution": {
     "iopub.execute_input": "2023-07-31T23:47:24.258773Z",
     "iopub.status.busy": "2023-07-31T23:47:24.257903Z",
     "iopub.status.idle": "2023-07-31T23:47:24.265514Z",
     "shell.execute_reply": "2023-07-31T23:47:24.264880Z"
    },
    "papermill": {
     "duration": 0.015804,
     "end_time": "2023-07-31T23:47:24.267165",
     "exception": false,
     "start_time": "2023-07-31T23:47:24.251361",
     "status": "completed"
    },
    "tags": []
   },
   "outputs": [
    {
     "data": {
      "application/javascript": [
       "parent.postMessage({\"jupyterEvent\": \"custom.exercise_interaction\", \"data\": {\"outcomeType\": 1, \"valueTowardsCompletion\": 0.16666666666666666, \"interactionType\": 1, \"questionType\": 4, \"questionId\": \"1_TakeFirstLook\", \"learnToolsVersion\": \"0.3.4\", \"failureMessage\": \"\", \"exceptionClass\": \"\", \"trace\": \"\"}}, \"*\")"
      ],
      "text/plain": [
       "<IPython.core.display.Javascript object>"
      ]
     },
     "metadata": {},
     "output_type": "display_data"
    },
    {
     "data": {
      "text/markdown": [
       "<span style=\"color:#33cc33\">Correct:</span> \n",
       "\n",
       "The first five rows of the data does show that several columns have missing values.  You can see this in the \"Street Number Suffix\", \"Proposed Construction Type\" and \"Site Permit\" columns, among others."
      ],
      "text/plain": [
       "Correct: \n",
       "\n",
       "The first five rows of the data does show that several columns have missing values.  You can see this in the \"Street Number Suffix\", \"Proposed Construction Type\" and \"Site Permit\" columns, among others."
      ]
     },
     "metadata": {},
     "output_type": "display_data"
    }
   ],
   "source": [
    "# Check your answer (Run this code cell to receive credit!)\n",
    "q1.check()"
   ]
  },
  {
   "cell_type": "code",
   "execution_count": 5,
   "id": "fa698889",
   "metadata": {
    "execution": {
     "iopub.execute_input": "2023-07-31T23:47:24.280408Z",
     "iopub.status.busy": "2023-07-31T23:47:24.279854Z",
     "iopub.status.idle": "2023-07-31T23:47:24.283549Z",
     "shell.execute_reply": "2023-07-31T23:47:24.282539Z"
    },
    "papermill": {
     "duration": 0.012989,
     "end_time": "2023-07-31T23:47:24.285876",
     "exception": false,
     "start_time": "2023-07-31T23:47:24.272887",
     "status": "completed"
    },
    "tags": []
   },
   "outputs": [],
   "source": [
    "# Line below will give you a hint\n",
    "#q1.hint()"
   ]
  },
  {
   "cell_type": "markdown",
   "id": "a0e4e08a",
   "metadata": {
    "papermill": {
     "duration": 0.006528,
     "end_time": "2023-07-31T23:47:24.298772",
     "exception": false,
     "start_time": "2023-07-31T23:47:24.292244",
     "status": "completed"
    },
    "tags": []
   },
   "source": [
    "# 2) How many missing data points do we have?\n",
    "\n",
    "What percentage of the values in the dataset are missing?  Your answer should be a number between 0 and 100.  (If 1/4 of the values in the dataset are missing, the answer is 25.)"
   ]
  },
  {
   "cell_type": "code",
   "execution_count": 6,
   "id": "670fff21",
   "metadata": {
    "execution": {
     "iopub.execute_input": "2023-07-31T23:47:24.312506Z",
     "iopub.status.busy": "2023-07-31T23:47:24.311577Z",
     "iopub.status.idle": "2023-07-31T23:47:25.066767Z",
     "shell.execute_reply": "2023-07-31T23:47:25.065276Z"
    },
    "papermill": {
     "duration": 0.764753,
     "end_time": "2023-07-31T23:47:25.069387",
     "exception": false,
     "start_time": "2023-07-31T23:47:24.304634",
     "status": "completed"
    },
    "tags": []
   },
   "outputs": [
    {
     "data": {
      "application/javascript": [
       "parent.postMessage({\"jupyterEvent\": \"custom.exercise_interaction\", \"data\": {\"outcomeType\": 1, \"valueTowardsCompletion\": 0.16666666666666666, \"interactionType\": 1, \"questionType\": 1, \"questionId\": \"2_PercentMissingValues\", \"learnToolsVersion\": \"0.3.4\", \"failureMessage\": \"\", \"exceptionClass\": \"\", \"trace\": \"\"}}, \"*\")"
      ],
      "text/plain": [
       "<IPython.core.display.Javascript object>"
      ]
     },
     "metadata": {},
     "output_type": "display_data"
    },
    {
     "data": {
      "text/markdown": [
       "<span style=\"color:#33cc33\">Correct</span>"
      ],
      "text/plain": [
       "Correct"
      ]
     },
     "metadata": {},
     "output_type": "display_data"
    }
   ],
   "source": [
    "# TODO: Your code here!\n",
    "# get the number of missing data points per column\n",
    "missing_values_count = sf_permits.isnull().sum()\n",
    "\n",
    "# how many total missing values do we have?\n",
    "total_cells = np.product(sf_permits.shape)\n",
    "total_missing = missing_values_count.sum()\n",
    "\n",
    "# percent of data that is missing\n",
    "percent_missing = (total_missing/total_cells) * 100\n",
    "\n",
    "# Check your answer\n",
    "q2.check()"
   ]
  },
  {
   "cell_type": "code",
   "execution_count": 7,
   "id": "64e3df66",
   "metadata": {
    "execution": {
     "iopub.execute_input": "2023-07-31T23:47:25.083241Z",
     "iopub.status.busy": "2023-07-31T23:47:25.082888Z",
     "iopub.status.idle": "2023-07-31T23:47:25.087291Z",
     "shell.execute_reply": "2023-07-31T23:47:25.086186Z"
    },
    "papermill": {
     "duration": 0.013632,
     "end_time": "2023-07-31T23:47:25.089460",
     "exception": false,
     "start_time": "2023-07-31T23:47:25.075828",
     "status": "completed"
    },
    "tags": []
   },
   "outputs": [],
   "source": [
    "# Lines below will give you a hint or solution code\n",
    "#q2.hint()\n",
    "#q2.solution()"
   ]
  },
  {
   "cell_type": "markdown",
   "id": "bb3a0417",
   "metadata": {
    "papermill": {
     "duration": 0.005635,
     "end_time": "2023-07-31T23:47:25.101441",
     "exception": false,
     "start_time": "2023-07-31T23:47:25.095806",
     "status": "completed"
    },
    "tags": []
   },
   "source": [
    "# 3) Figure out why the data is missing\n",
    "\n",
    "Look at the columns **\"Street Number Suffix\"** and **\"Zipcode\"** from the [San Francisco Building Permits dataset](https://www.kaggle.com/aparnashastry/building-permit-applications-data). Both of these contain missing values. \n",
    "- Which, if either, are missing because they don't exist? \n",
    "- Which, if either, are missing because they weren't recorded?  \n",
    "\n",
    "Once you have an answer, run the code cell below."
   ]
  },
  {
   "cell_type": "code",
   "execution_count": 8,
   "id": "736562f4",
   "metadata": {
    "execution": {
     "iopub.execute_input": "2023-07-31T23:47:25.115984Z",
     "iopub.status.busy": "2023-07-31T23:47:25.115269Z",
     "iopub.status.idle": "2023-07-31T23:47:25.121447Z",
     "shell.execute_reply": "2023-07-31T23:47:25.120779Z"
    },
    "papermill": {
     "duration": 0.015619,
     "end_time": "2023-07-31T23:47:25.123069",
     "exception": false,
     "start_time": "2023-07-31T23:47:25.107450",
     "status": "completed"
    },
    "tags": []
   },
   "outputs": [
    {
     "data": {
      "application/javascript": [
       "parent.postMessage({\"jupyterEvent\": \"custom.exercise_interaction\", \"data\": {\"outcomeType\": 1, \"valueTowardsCompletion\": 0.16666666666666666, \"interactionType\": 1, \"questionType\": 4, \"questionId\": \"3_WhyDataMissing\", \"learnToolsVersion\": \"0.3.4\", \"failureMessage\": \"\", \"exceptionClass\": \"\", \"trace\": \"\"}}, \"*\")"
      ],
      "text/plain": [
       "<IPython.core.display.Javascript object>"
      ]
     },
     "metadata": {},
     "output_type": "display_data"
    },
    {
     "data": {
      "text/markdown": [
       "<span style=\"color:#33cc33\">Correct:</span> \n",
       "\n",
       "If a value in the \"Street Number Suffix\" column is missing, it is likely because it does not exist. If a value in the \"Zipcode\" column is missing, it was not recorded."
      ],
      "text/plain": [
       "Correct: \n",
       "\n",
       "If a value in the \"Street Number Suffix\" column is missing, it is likely because it does not exist. If a value in the \"Zipcode\" column is missing, it was not recorded."
      ]
     },
     "metadata": {},
     "output_type": "display_data"
    }
   ],
   "source": [
    "# Check your answer (Run this code cell to receive credit!)\n",
    "q3.check()"
   ]
  },
  {
   "cell_type": "code",
   "execution_count": 9,
   "id": "67ca182a",
   "metadata": {
    "execution": {
     "iopub.execute_input": "2023-07-31T23:47:25.137768Z",
     "iopub.status.busy": "2023-07-31T23:47:25.137087Z",
     "iopub.status.idle": "2023-07-31T23:47:25.140445Z",
     "shell.execute_reply": "2023-07-31T23:47:25.139851Z"
    },
    "papermill": {
     "duration": 0.013092,
     "end_time": "2023-07-31T23:47:25.142569",
     "exception": false,
     "start_time": "2023-07-31T23:47:25.129477",
     "status": "completed"
    },
    "tags": []
   },
   "outputs": [],
   "source": [
    "# Line below will give you a hint\n",
    "#q3.hint()"
   ]
  },
  {
   "cell_type": "markdown",
   "id": "c1fbf9f2",
   "metadata": {
    "papermill": {
     "duration": 0.006086,
     "end_time": "2023-07-31T23:47:25.155422",
     "exception": false,
     "start_time": "2023-07-31T23:47:25.149336",
     "status": "completed"
    },
    "tags": []
   },
   "source": [
    "# 4) Drop missing values: rows\n",
    "\n",
    "If you removed all of the rows of `sf_permits` with missing values, how many rows are left?\n",
    "\n",
    "**Note**: Do not change the value of `sf_permits` when checking this.  "
   ]
  },
  {
   "cell_type": "code",
   "execution_count": 10,
   "id": "f1c40a71",
   "metadata": {
    "execution": {
     "iopub.execute_input": "2023-07-31T23:47:25.170232Z",
     "iopub.status.busy": "2023-07-31T23:47:25.169651Z",
     "iopub.status.idle": "2023-07-31T23:47:25.869315Z",
     "shell.execute_reply": "2023-07-31T23:47:25.868338Z"
    },
    "papermill": {
     "duration": 0.709719,
     "end_time": "2023-07-31T23:47:25.871525",
     "exception": false,
     "start_time": "2023-07-31T23:47:25.161806",
     "status": "completed"
    },
    "tags": []
   },
   "outputs": [
    {
     "name": "stdout",
     "output_type": "stream",
     "text": [
      "Empty DataFrame\n",
      "Columns: [Permit Number, Permit Type, Permit Type Definition, Permit Creation Date, Block, Lot, Street Number, Street Number Suffix, Street Name, Street Suffix, Unit, Unit Suffix, Description, Current Status, Current Status Date, Filed Date, Issued Date, Completed Date, First Construction Document Date, Structural Notification, Number of Existing Stories, Number of Proposed Stories, Voluntary Soft-Story Retrofit, Fire Only Permit, Permit Expiration Date, Estimated Cost, Revised Cost, Existing Use, Existing Units, Proposed Use, Proposed Units, Plansets, TIDF Compliance, Existing Construction Type, Existing Construction Type Description, Proposed Construction Type, Proposed Construction Type Description, Site Permit, Supervisor District, Neighborhoods - Analysis Boundaries, Zipcode, Location, Record ID]\n",
      "Index: []\n",
      "\n",
      "[0 rows x 43 columns]\n"
     ]
    }
   ],
   "source": [
    "# TODO: Your code here!\n",
    "df  = sf_permits.dropna()\n",
    "df.shape\n",
    "print(df)"
   ]
  },
  {
   "cell_type": "markdown",
   "id": "4d24c4d2",
   "metadata": {
    "papermill": {
     "duration": 0.006216,
     "end_time": "2023-07-31T23:47:25.884756",
     "exception": false,
     "start_time": "2023-07-31T23:47:25.878540",
     "status": "completed"
    },
    "tags": []
   },
   "source": [
    "Once you have an answer, run the code cell below."
   ]
  },
  {
   "cell_type": "code",
   "execution_count": 11,
   "id": "cb677809",
   "metadata": {
    "execution": {
     "iopub.execute_input": "2023-07-31T23:47:25.898754Z",
     "iopub.status.busy": "2023-07-31T23:47:25.898395Z",
     "iopub.status.idle": "2023-07-31T23:47:25.906621Z",
     "shell.execute_reply": "2023-07-31T23:47:25.905404Z"
    },
    "papermill": {
     "duration": 0.017658,
     "end_time": "2023-07-31T23:47:25.908613",
     "exception": false,
     "start_time": "2023-07-31T23:47:25.890955",
     "status": "completed"
    },
    "tags": []
   },
   "outputs": [
    {
     "data": {
      "application/javascript": [
       "parent.postMessage({\"jupyterEvent\": \"custom.exercise_interaction\", \"data\": {\"outcomeType\": 1, \"valueTowardsCompletion\": 0.16666666666666666, \"interactionType\": 1, \"questionType\": 4, \"questionId\": \"4_DropMissingRows\", \"learnToolsVersion\": \"0.3.4\", \"failureMessage\": \"\", \"exceptionClass\": \"\", \"trace\": \"\"}}, \"*\")"
      ],
      "text/plain": [
       "<IPython.core.display.Javascript object>"
      ]
     },
     "metadata": {},
     "output_type": "display_data"
    },
    {
     "data": {
      "text/markdown": [
       "<span style=\"color:#33cc33\">Correct:</span> \n",
       "\n",
       "There are no rows remaining in the dataset!"
      ],
      "text/plain": [
       "Correct: \n",
       "\n",
       "There are no rows remaining in the dataset!"
      ]
     },
     "metadata": {},
     "output_type": "display_data"
    }
   ],
   "source": [
    "# Check your answer (Run this code cell to receive credit!)\n",
    "q4.check()"
   ]
  },
  {
   "cell_type": "code",
   "execution_count": 12,
   "id": "0d2103aa",
   "metadata": {
    "execution": {
     "iopub.execute_input": "2023-07-31T23:47:25.924496Z",
     "iopub.status.busy": "2023-07-31T23:47:25.924145Z",
     "iopub.status.idle": "2023-07-31T23:47:25.929670Z",
     "shell.execute_reply": "2023-07-31T23:47:25.928160Z"
    },
    "papermill": {
     "duration": 0.015695,
     "end_time": "2023-07-31T23:47:25.931564",
     "exception": false,
     "start_time": "2023-07-31T23:47:25.915869",
     "status": "completed"
    },
    "tags": []
   },
   "outputs": [],
   "source": [
    "# Line below will give you a hint\n",
    "#q4.hint()"
   ]
  },
  {
   "cell_type": "markdown",
   "id": "5913c3ca",
   "metadata": {
    "papermill": {
     "duration": 0.006423,
     "end_time": "2023-07-31T23:47:25.944869",
     "exception": false,
     "start_time": "2023-07-31T23:47:25.938446",
     "status": "completed"
    },
    "tags": []
   },
   "source": [
    "# 5) Drop missing values: columns\n",
    "\n",
    "Now try removing all the columns with empty values.  \n",
    "- Create a new DataFrame called `sf_permits_with_na_dropped` that has all of the columns with empty values removed.  \n",
    "- How many columns were removed from the original `sf_permits` DataFrame? Use this number to set the value of the `dropped_columns` variable below."
   ]
  },
  {
   "cell_type": "code",
   "execution_count": 13,
   "id": "71be442c",
   "metadata": {
    "execution": {
     "iopub.execute_input": "2023-07-31T23:47:25.959351Z",
     "iopub.status.busy": "2023-07-31T23:47:25.959002Z",
     "iopub.status.idle": "2023-07-31T23:47:26.677164Z",
     "shell.execute_reply": "2023-07-31T23:47:26.676245Z"
    },
    "papermill": {
     "duration": 0.727691,
     "end_time": "2023-07-31T23:47:26.679004",
     "exception": false,
     "start_time": "2023-07-31T23:47:25.951313",
     "status": "completed"
    },
    "tags": []
   },
   "outputs": [
    {
     "name": "stdout",
     "output_type": "stream",
     "text": [
      "31\n"
     ]
    },
    {
     "data": {
      "application/javascript": [
       "parent.postMessage({\"jupyterEvent\": \"custom.exercise_interaction\", \"data\": {\"outcomeType\": 1, \"valueTowardsCompletion\": 0.16666666666666666, \"interactionType\": 1, \"questionType\": 1, \"questionId\": \"5_DropMissingCols\", \"learnToolsVersion\": \"0.3.4\", \"failureMessage\": \"\", \"exceptionClass\": \"\", \"trace\": \"\"}}, \"*\")"
      ],
      "text/plain": [
       "<IPython.core.display.Javascript object>"
      ]
     },
     "metadata": {},
     "output_type": "display_data"
    },
    {
     "data": {
      "text/markdown": [
       "<span style=\"color:#33cc33\">Correct</span>"
      ],
      "text/plain": [
       "Correct"
      ]
     },
     "metadata": {},
     "output_type": "display_data"
    }
   ],
   "source": [
    "# TODO: Your code here\n",
    "sf_permits_with_na_dropped = sf_permits.dropna(axis = 1)\n",
    "\n",
    "dropped_columns = sf_permits.shape[1] - sf_permits_with_na_dropped.shape[1]\n",
    "print(dropped_columns)\n",
    "# Check your answer\n",
    "q5.check()"
   ]
  },
  {
   "cell_type": "code",
   "execution_count": 14,
   "id": "11727705",
   "metadata": {
    "execution": {
     "iopub.execute_input": "2023-07-31T23:47:26.694327Z",
     "iopub.status.busy": "2023-07-31T23:47:26.693996Z",
     "iopub.status.idle": "2023-07-31T23:47:26.697911Z",
     "shell.execute_reply": "2023-07-31T23:47:26.696986Z"
    },
    "papermill": {
     "duration": 0.014429,
     "end_time": "2023-07-31T23:47:26.700347",
     "exception": false,
     "start_time": "2023-07-31T23:47:26.685918",
     "status": "completed"
    },
    "tags": []
   },
   "outputs": [],
   "source": [
    "# Lines below will give you a hint or solution code\n",
    "#q5.hint()\n",
    "#q5.solution()"
   ]
  },
  {
   "cell_type": "markdown",
   "id": "393d1d43",
   "metadata": {
    "papermill": {
     "duration": 0.006587,
     "end_time": "2023-07-31T23:47:26.713941",
     "exception": false,
     "start_time": "2023-07-31T23:47:26.707354",
     "status": "completed"
    },
    "tags": []
   },
   "source": [
    "# 6) Fill in missing values automatically\n",
    "\n",
    "Try replacing all the NaN's in the `sf_permits` data with the one that comes directly after it and then replacing any remaining NaN's with 0.  Set the result to a new DataFrame `sf_permits_with_na_imputed`."
   ]
  },
  {
   "cell_type": "code",
   "execution_count": 15,
   "id": "cb0a6c2a",
   "metadata": {
    "execution": {
     "iopub.execute_input": "2023-07-31T23:47:26.729586Z",
     "iopub.status.busy": "2023-07-31T23:47:26.728573Z",
     "iopub.status.idle": "2023-07-31T23:47:28.344269Z",
     "shell.execute_reply": "2023-07-31T23:47:28.343261Z"
    },
    "papermill": {
     "duration": 1.62583,
     "end_time": "2023-07-31T23:47:28.346383",
     "exception": false,
     "start_time": "2023-07-31T23:47:26.720553",
     "status": "completed"
    },
    "tags": []
   },
   "outputs": [
    {
     "data": {
      "application/javascript": [
       "parent.postMessage({\"jupyterEvent\": \"custom.exercise_interaction\", \"data\": {\"outcomeType\": 1, \"valueTowardsCompletion\": 0.16666666666666666, \"interactionType\": 1, \"questionType\": 1, \"questionId\": \"6_ImputeAutomatically\", \"learnToolsVersion\": \"0.3.4\", \"failureMessage\": \"\", \"exceptionClass\": \"\", \"trace\": \"\"}}, \"*\")"
      ],
      "text/plain": [
       "<IPython.core.display.Javascript object>"
      ]
     },
     "metadata": {},
     "output_type": "display_data"
    },
    {
     "data": {
      "text/markdown": [
       "<span style=\"color:#33cc33\">Correct</span>"
      ],
      "text/plain": [
       "Correct"
      ]
     },
     "metadata": {},
     "output_type": "display_data"
    }
   ],
   "source": [
    "# TODO: Your code here\n",
    "sf_permits_with_na_imputed = sf_permits.fillna(method = 'bfill').fillna(0)\n",
    "\n",
    "# Check your answer\n",
    "q6.check()"
   ]
  },
  {
   "cell_type": "code",
   "execution_count": 16,
   "id": "9bc99ef5",
   "metadata": {
    "execution": {
     "iopub.execute_input": "2023-07-31T23:47:28.363851Z",
     "iopub.status.busy": "2023-07-31T23:47:28.363513Z",
     "iopub.status.idle": "2023-07-31T23:47:28.368243Z",
     "shell.execute_reply": "2023-07-31T23:47:28.366989Z"
    },
    "papermill": {
     "duration": 0.016888,
     "end_time": "2023-07-31T23:47:28.370951",
     "exception": false,
     "start_time": "2023-07-31T23:47:28.354063",
     "status": "completed"
    },
    "tags": []
   },
   "outputs": [],
   "source": [
    "# Lines below will give you a hint or solution code\n",
    "#q6.hint()\n",
    "#q6.solution()"
   ]
  },
  {
   "cell_type": "markdown",
   "id": "18b6d4eb",
   "metadata": {
    "papermill": {
     "duration": 0.0071,
     "end_time": "2023-07-31T23:47:28.385392",
     "exception": false,
     "start_time": "2023-07-31T23:47:28.378292",
     "status": "completed"
    },
    "tags": []
   },
   "source": [
    "# More practice\n",
    "\n",
    "If you're looking for more practice handling missing values:\n",
    "\n",
    "* Check out [this noteboook](https://www.kaggle.com/alexisbcook/missing-values) on handling missing values using scikit-learn's imputer. \n",
    "* Look back at the \"Zipcode\" column in the `sf_permits` dataset, which has some missing values. How would you go about figuring out what the actual zipcode of each address should be? (You might try using another dataset. You can search for datasets about San Fransisco on the [Datasets listing](https://www.kaggle.com/datasets).) \n",
    "\n",
    "# Keep going\n",
    "\n",
    "In the next lesson, learn how to [**apply scaling and normalization**](https://www.kaggle.com/alexisbcook/scaling-and-normalization) to transform your data."
   ]
  },
  {
   "cell_type": "markdown",
   "id": "8f4e6ed7",
   "metadata": {
    "papermill": {
     "duration": 0.006903,
     "end_time": "2023-07-31T23:47:28.399516",
     "exception": false,
     "start_time": "2023-07-31T23:47:28.392613",
     "status": "completed"
    },
    "tags": []
   },
   "source": [
    "---\n",
    "\n",
    "\n",
    "\n",
    "\n",
    "*Have questions or comments? Visit the [course discussion forum](https://www.kaggle.com/learn/data-cleaning/discussion) to chat with other learners.*"
   ]
  }
 ],
 "metadata": {
  "kernelspec": {
   "display_name": "Python 3",
   "language": "python",
   "name": "python3"
  },
  "language_info": {
   "codemirror_mode": {
    "name": "ipython",
    "version": 3
   },
   "file_extension": ".py",
   "mimetype": "text/x-python",
   "name": "python",
   "nbconvert_exporter": "python",
   "pygments_lexer": "ipython3",
   "version": "3.10.12"
  },
  "papermill": {
   "default_parameters": {},
   "duration": 19.870374,
   "end_time": "2023-07-31T23:47:29.328190",
   "environment_variables": {},
   "exception": null,
   "input_path": "__notebook__.ipynb",
   "output_path": "__notebook__.ipynb",
   "parameters": {},
   "start_time": "2023-07-31T23:47:09.457816",
   "version": "2.4.0"
  }
 },
 "nbformat": 4,
 "nbformat_minor": 5
}
